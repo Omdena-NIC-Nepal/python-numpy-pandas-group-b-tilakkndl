{
 "cells": [
  {
   "cell_type": "code",
   "execution_count": 2,
   "metadata": {
    "id": "o7x05AgAPUP8"
   },
   "outputs": [],
   "source": [
    "# NumPy and Pandas Assignment\n",
    "# Complete the following tasks by filling in the code where indicated.\n",
    "# Ensure your notebook is well-documented with markdown cells explaining your code and result.\n",
    "\n",
    "import numpy as np\n",
    "import pandas as pd"
   ]
  },
  {
   "cell_type": "markdown",
   "metadata": {
    "id": "c1zhu_lDPUP9"
   },
   "source": [
    "# Task 1: NumPy Basics"
   ]
  },
  {
   "cell_type": "markdown",
   "metadata": {
    "id": "cSADnVuqPUP9",
    "outputId": "8472fd0a-be9a-4ff5-80fd-74a0d492c126"
   },
   "source": [
    "### Array Creation\n",
    "#### 1. Create an array of 10 zeros but set the fifth element to 1.\n"
   ]
  },
  {
   "cell_type": "code",
   "execution_count": 8,
   "metadata": {},
   "outputs": [
    {
     "data": {
      "text/plain": [
       "array([0, 0, 0, 0, 1, 0, 0, 0, 0, 0])"
      ]
     },
     "execution_count": 8,
     "metadata": {},
     "output_type": "execute_result"
    }
   ],
   "source": [
    "# solution\n",
    "my_array=np.zeros(10, dtype=int)\n",
    "my_array[4] = 1\n",
    "my_array"
   ]
  },
  {
   "cell_type": "markdown",
   "metadata": {
    "id": "RipsFxj5PUP-",
    "outputId": "af3cec5f-ad17-4715-ab36-0a539d338e80",
    "tags": [
     "parameters"
    ]
   },
   "source": [
    "### 2. Create a 4x4 matrix with values ranging from 0 to 15."
   ]
  },
  {
   "cell_type": "code",
   "execution_count": 18,
   "metadata": {
    "id": "k5VtDwfGPUP-",
    "outputId": "688f56dc-afce-4bfd-f354-624e9483ca15"
   },
   "outputs": [
    {
     "data": {
      "text/plain": [
       "array([[ 0,  1,  2,  3],\n",
       "       [ 4,  5,  6,  7],\n",
       "       [ 8,  9, 10, 11],\n",
       "       [12, 13, 14, 15]])"
      ]
     },
     "execution_count": 18,
     "metadata": {},
     "output_type": "execute_result"
    }
   ],
   "source": [
    "# solution\n",
    "my_array = np.arange(0,16).reshape(4,4)\n",
    "my_array"
   ]
  },
  {
   "cell_type": "markdown",
   "metadata": {
    "id": "Fzr2UkPLPUP-",
    "outputId": "09fbb983-e138-4057-de75-a4c1ad46af98"
   },
   "source": [
    "### Array Operations\n",
    "\n",
    "#### 3. Create two NumPy arrays: Perform element-wise addition, subtraction, multiplication, and division.\n",
    "#### arr1: array([[41, 30, 10], [ 6, 35, 23], [23,  9, 10]])\n",
    "#### arr2: array([[4, 29,  2], [5, 13,  3], [24, 16,  7]])"
   ]
  },
  {
   "cell_type": "code",
   "execution_count": 41,
   "metadata": {
    "id": "lexGZzzCPUP_",
    "outputId": "af75bdb4-fc3b-4772-c39f-97ba353b141c"
   },
   "outputs": [
    {
     "data": {
      "text/plain": [
       "array([[45, 59, 12],\n",
       "       [11, 48, 26],\n",
       "       [47, 25, 17]])"
      ]
     },
     "execution_count": 41,
     "metadata": {},
     "output_type": "execute_result"
    }
   ],
   "source": [
    "# solution\n",
    "arr1= np.array([[41, 30, 10], [ 6, 35, 23], [23, 9, 10]])\n",
    "arr2= np.array([[4, 29, 2], [5, 13, 3], [24, 16, 7]])\n",
    "# addition: arr1 + arr2\n",
    "addition=arr1 + arr2\n",
    "\n",
    "# subtraction: arr1 - arr2 \n",
    "subtraction=arr1-arr2\n",
    "\n",
    "# division: arr1 / arr2\n",
    "division=arr1/arr2\n",
    "\n",
    "# multiplication: arr1 * arr2\n",
    "multiplication=arr1 * arr2\n",
    "\n",
    "addition\n",
    "# subtraction\n",
    "# division\n",
    "# multiplication"
   ]
  },
  {
   "cell_type": "markdown",
   "metadata": {},
   "source": [
    "### Array Slicing\n",
    "#### 4. Given the array: \n",
    "#### arr = np.array([10, 20, 30, 40, 50, 60, 70, 80, 90, 100])\n",
    "#### Extract elements from index 2 to 6."
   ]
  },
  {
   "cell_type": "code",
   "execution_count": 24,
   "metadata": {},
   "outputs": [
    {
     "data": {
      "text/plain": [
       "array([30, 40, 50, 60, 70])"
      ]
     },
     "execution_count": 24,
     "metadata": {},
     "output_type": "execute_result"
    }
   ],
   "source": [
    "# solution\n",
    "arr = np.array([10, 20, 30, 40, 50, 60, 70, 80, 90, 100])\n",
    "arr[2:7]"
   ]
  },
  {
   "cell_type": "markdown",
   "metadata": {},
   "source": [
    "### Using NumPy Methods\n",
    "#### 5. Convert the array below to a 3×3 NumPy array.\n",
    "#### array([[15, 18, 20], [15, 30, 8], [25, 30, 60]])\n",
    "#### Find the mean, sum, and maximum value."
   ]
  },
  {
   "cell_type": "code",
   "execution_count": 57,
   "metadata": {},
   "outputs": [
    {
     "data": {
      "text/plain": [
       "np.int64(60)"
      ]
     },
     "execution_count": 57,
     "metadata": {},
     "output_type": "execute_result"
    }
   ],
   "source": [
    "# solution\n",
    "arr = np.array([[15, 18, 20], [15, 30, 8], [25, 30, 60]]).reshape(3,3)\n",
    "\n",
    "mean=np.round(np.mean(arr), 2)\n",
    "sum=np.sum(arr)\n",
    "max_value=np.max(arr)\n",
    "mean\n",
    "sum\n",
    "max_value\n",
    "# NB: round the mean to two decimal places\n"
   ]
  },
  {
   "cell_type": "markdown",
   "metadata": {
    "id": "vie2MnWzPUP_"
   },
   "source": [
    "# Task 2: Pandas Basics"
   ]
  },
  {
   "cell_type": "markdown",
   "metadata": {
    "id": "rUKKzwUhPUP_",
    "outputId": "25c2c47e-7cc8-47e7-fc3d-97256f7ebc36"
   },
   "source": [
    "### Creating a Pandas Series\n",
    "#### 1. Create a Pandas Series from the list [10, 20, 30, 40, 50] with index labels 'a', 'b', 'c', 'd', 'e'."
   ]
  },
  {
   "cell_type": "code",
   "execution_count": 60,
   "metadata": {
    "id": "ZlpSxf2HPUP_",
    "outputId": "8e5f27b0-534b-4702-af6b-301096951d9d"
   },
   "outputs": [
    {
     "data": {
      "text/plain": [
       "a    10\n",
       "b    20\n",
       "c    30\n",
       "d    40\n",
       "e    50\n",
       "dtype: int64"
      ]
     },
     "execution_count": 60,
     "metadata": {},
     "output_type": "execute_result"
    }
   ],
   "source": [
    "# solution\n",
    "df = pd.Series([10,20,30,40,50], index=[ 'a', 'b', 'c', 'd', 'e'])\n",
    "df"
   ]
  },
  {
   "cell_type": "markdown",
   "metadata": {
    "id": "B2E7-OV5PUP_",
    "outputId": "87c32ef2-137e-46ea-9fb2-ab68bb80e06c"
   },
   "source": [
    "### Reading a CSV File\n",
    "#### 2. Read a CSV file named \"data.csv\" into a Pandas DataFrame. The CSV file has the following columns: \"Name\", \"Age\", \"Salary\"."
   ]
  },
  {
   "cell_type": "code",
   "execution_count": 158,
   "metadata": {},
   "outputs": [
    {
     "data": {
      "text/plain": [
       "Index(['Name', 'Age', 'Salary', 'Score'], dtype='object')"
      ]
     },
     "execution_count": 158,
     "metadata": {},
     "output_type": "execute_result"
    }
   ],
   "source": [
    "# solution\n",
    "df = pd.read_csv(\"./data/data.csv\")\n",
    "df[\"Score\"]= df[\"Age\"]\n",
    "df.columns"
   ]
  },
  {
   "cell_type": "markdown",
   "metadata": {
    "id": "0bx-pMjFPUQA",
    "outputId": "d841093f-a189-4904-a6cd-1eddb40792f1"
   },
   "source": [
    "### Slicing a DataFrame\n",
    "#### 3. From the DataFrame created in Exercise 2, select only the first three rows."
   ]
  },
  {
   "cell_type": "code",
   "execution_count": 80,
   "metadata": {
    "id": "2pQ2LSFhPUQA",
    "outputId": "9e7811fb-9a3a-47dd-9c7b-0c7030b2880d"
   },
   "outputs": [
    {
     "data": {
      "text/html": [
       "<div>\n",
       "<style scoped>\n",
       "    .dataframe tbody tr th:only-of-type {\n",
       "        vertical-align: middle;\n",
       "    }\n",
       "\n",
       "    .dataframe tbody tr th {\n",
       "        vertical-align: top;\n",
       "    }\n",
       "\n",
       "    .dataframe thead th {\n",
       "        text-align: right;\n",
       "    }\n",
       "</style>\n",
       "<table border=\"1\" class=\"dataframe\">\n",
       "  <thead>\n",
       "    <tr style=\"text-align: right;\">\n",
       "      <th></th>\n",
       "      <th>Name</th>\n",
       "      <th>Age</th>\n",
       "      <th>Salary</th>\n",
       "    </tr>\n",
       "  </thead>\n",
       "  <tbody>\n",
       "    <tr>\n",
       "      <th>0</th>\n",
       "      <td>Alice</td>\n",
       "      <td>29</td>\n",
       "      <td>73193</td>\n",
       "    </tr>\n",
       "    <tr>\n",
       "      <th>1</th>\n",
       "      <td>Bob</td>\n",
       "      <td>53</td>\n",
       "      <td>85398</td>\n",
       "    </tr>\n",
       "    <tr>\n",
       "      <th>2</th>\n",
       "      <td>Charlie</td>\n",
       "      <td>36</td>\n",
       "      <td>47162</td>\n",
       "    </tr>\n",
       "  </tbody>\n",
       "</table>\n",
       "</div>"
      ],
      "text/plain": [
       "      Name  Age  Salary\n",
       "0    Alice   29   73193\n",
       "1      Bob   53   85398\n",
       "2  Charlie   36   47162"
      ]
     },
     "execution_count": 80,
     "metadata": {},
     "output_type": "execute_result"
    }
   ],
   "source": [
    "df.head(3)"
   ]
  },
  {
   "cell_type": "markdown",
   "metadata": {},
   "source": [
    "### Manipulating a DataFrame - Adding a Column\n",
    "#### 4. Add a new column named \"Tax\" to the DataFrame from Exercise 2. The tax should be calculated as 10% of the \"Salary\" column."
   ]
  },
  {
   "cell_type": "code",
   "execution_count": 82,
   "metadata": {
    "id": "NtWyRwfIPUQA",
    "outputId": "1495bd77-e301-494f-f1ab-0fadf74612fc"
   },
   "outputs": [
    {
     "data": {
      "text/html": [
       "<div>\n",
       "<style scoped>\n",
       "    .dataframe tbody tr th:only-of-type {\n",
       "        vertical-align: middle;\n",
       "    }\n",
       "\n",
       "    .dataframe tbody tr th {\n",
       "        vertical-align: top;\n",
       "    }\n",
       "\n",
       "    .dataframe thead th {\n",
       "        text-align: right;\n",
       "    }\n",
       "</style>\n",
       "<table border=\"1\" class=\"dataframe\">\n",
       "  <thead>\n",
       "    <tr style=\"text-align: right;\">\n",
       "      <th></th>\n",
       "      <th>Name</th>\n",
       "      <th>Age</th>\n",
       "      <th>Salary</th>\n",
       "      <th>Tax</th>\n",
       "    </tr>\n",
       "  </thead>\n",
       "  <tbody>\n",
       "    <tr>\n",
       "      <th>0</th>\n",
       "      <td>Alice</td>\n",
       "      <td>29</td>\n",
       "      <td>73193</td>\n",
       "      <td>7319.3</td>\n",
       "    </tr>\n",
       "    <tr>\n",
       "      <th>1</th>\n",
       "      <td>Bob</td>\n",
       "      <td>53</td>\n",
       "      <td>85398</td>\n",
       "      <td>8539.8</td>\n",
       "    </tr>\n",
       "    <tr>\n",
       "      <th>2</th>\n",
       "      <td>Charlie</td>\n",
       "      <td>36</td>\n",
       "      <td>47162</td>\n",
       "      <td>4716.2</td>\n",
       "    </tr>\n",
       "    <tr>\n",
       "      <th>3</th>\n",
       "      <td>David</td>\n",
       "      <td>22</td>\n",
       "      <td>65853</td>\n",
       "      <td>6585.3</td>\n",
       "    </tr>\n",
       "    <tr>\n",
       "      <th>4</th>\n",
       "      <td>Eve</td>\n",
       "      <td>24</td>\n",
       "      <td>36168</td>\n",
       "      <td>3616.8</td>\n",
       "    </tr>\n",
       "    <tr>\n",
       "      <th>5</th>\n",
       "      <td>Frank</td>\n",
       "      <td>58</td>\n",
       "      <td>69657</td>\n",
       "      <td>6965.7</td>\n",
       "    </tr>\n",
       "    <tr>\n",
       "      <th>6</th>\n",
       "      <td>Grace</td>\n",
       "      <td>41</td>\n",
       "      <td>85202</td>\n",
       "      <td>8520.2</td>\n",
       "    </tr>\n",
       "    <tr>\n",
       "      <th>7</th>\n",
       "      <td>Hannah</td>\n",
       "      <td>38</td>\n",
       "      <td>62421</td>\n",
       "      <td>6242.1</td>\n",
       "    </tr>\n",
       "    <tr>\n",
       "      <th>8</th>\n",
       "      <td>Isaac</td>\n",
       "      <td>50</td>\n",
       "      <td>74641</td>\n",
       "      <td>7464.1</td>\n",
       "    </tr>\n",
       "    <tr>\n",
       "      <th>9</th>\n",
       "      <td>Jack</td>\n",
       "      <td>47</td>\n",
       "      <td>38963</td>\n",
       "      <td>3896.3</td>\n",
       "    </tr>\n",
       "    <tr>\n",
       "      <th>10</th>\n",
       "      <td>Karen</td>\n",
       "      <td>34</td>\n",
       "      <td>32136</td>\n",
       "      <td>3213.6</td>\n",
       "    </tr>\n",
       "    <tr>\n",
       "      <th>11</th>\n",
       "      <td>Leo</td>\n",
       "      <td>49</td>\n",
       "      <td>41874</td>\n",
       "      <td>4187.4</td>\n",
       "    </tr>\n",
       "    <tr>\n",
       "      <th>12</th>\n",
       "      <td>Mona</td>\n",
       "      <td>56</td>\n",
       "      <td>34070</td>\n",
       "      <td>3407.0</td>\n",
       "    </tr>\n",
       "    <tr>\n",
       "      <th>13</th>\n",
       "      <td>Nina</td>\n",
       "      <td>49</td>\n",
       "      <td>91734</td>\n",
       "      <td>9173.4</td>\n",
       "    </tr>\n",
       "    <tr>\n",
       "      <th>14</th>\n",
       "      <td>Oscar</td>\n",
       "      <td>30</td>\n",
       "      <td>89539</td>\n",
       "      <td>8953.9</td>\n",
       "    </tr>\n",
       "    <tr>\n",
       "      <th>15</th>\n",
       "      <td>Paul</td>\n",
       "      <td>23</td>\n",
       "      <td>78720</td>\n",
       "      <td>7872.0</td>\n",
       "    </tr>\n",
       "    <tr>\n",
       "      <th>16</th>\n",
       "      <td>Quinn</td>\n",
       "      <td>31</td>\n",
       "      <td>54424</td>\n",
       "      <td>5442.4</td>\n",
       "    </tr>\n",
       "    <tr>\n",
       "      <th>17</th>\n",
       "      <td>Rachel</td>\n",
       "      <td>54</td>\n",
       "      <td>59900</td>\n",
       "      <td>5990.0</td>\n",
       "    </tr>\n",
       "    <tr>\n",
       "      <th>18</th>\n",
       "      <td>Steve</td>\n",
       "      <td>36</td>\n",
       "      <td>32163</td>\n",
       "      <td>3216.3</td>\n",
       "    </tr>\n",
       "    <tr>\n",
       "      <th>19</th>\n",
       "      <td>Tina</td>\n",
       "      <td>56</td>\n",
       "      <td>52054</td>\n",
       "      <td>5205.4</td>\n",
       "    </tr>\n",
       "  </tbody>\n",
       "</table>\n",
       "</div>"
      ],
      "text/plain": [
       "       Name  Age  Salary     Tax\n",
       "0     Alice   29   73193  7319.3\n",
       "1       Bob   53   85398  8539.8\n",
       "2   Charlie   36   47162  4716.2\n",
       "3     David   22   65853  6585.3\n",
       "4       Eve   24   36168  3616.8\n",
       "5     Frank   58   69657  6965.7\n",
       "6     Grace   41   85202  8520.2\n",
       "7    Hannah   38   62421  6242.1\n",
       "8     Isaac   50   74641  7464.1\n",
       "9      Jack   47   38963  3896.3\n",
       "10    Karen   34   32136  3213.6\n",
       "11      Leo   49   41874  4187.4\n",
       "12     Mona   56   34070  3407.0\n",
       "13     Nina   49   91734  9173.4\n",
       "14    Oscar   30   89539  8953.9\n",
       "15     Paul   23   78720  7872.0\n",
       "16    Quinn   31   54424  5442.4\n",
       "17   Rachel   54   59900  5990.0\n",
       "18    Steve   36   32163  3216.3\n",
       "19     Tina   56   52054  5205.4"
      ]
     },
     "execution_count": 82,
     "metadata": {},
     "output_type": "execute_result"
    }
   ],
   "source": [
    "# solution\n",
    "df[\"Tax\"] = df[\"Salary\"] * 0.1\n",
    "df"
   ]
  },
  {
   "cell_type": "markdown",
   "metadata": {},
   "source": [
    "#### Filter the dataframe by the column \"age\" whereby the age is above 36 years"
   ]
  },
  {
   "cell_type": "code",
   "execution_count": 84,
   "metadata": {
    "id": "rQ0oT6jxPUQA",
    "outputId": "2165c104-4cb4-4ea8-e8c3-1d70a03d7ca2"
   },
   "outputs": [
    {
     "data": {
      "text/html": [
       "<div>\n",
       "<style scoped>\n",
       "    .dataframe tbody tr th:only-of-type {\n",
       "        vertical-align: middle;\n",
       "    }\n",
       "\n",
       "    .dataframe tbody tr th {\n",
       "        vertical-align: top;\n",
       "    }\n",
       "\n",
       "    .dataframe thead th {\n",
       "        text-align: right;\n",
       "    }\n",
       "</style>\n",
       "<table border=\"1\" class=\"dataframe\">\n",
       "  <thead>\n",
       "    <tr style=\"text-align: right;\">\n",
       "      <th></th>\n",
       "      <th>Name</th>\n",
       "      <th>Age</th>\n",
       "      <th>Salary</th>\n",
       "      <th>Tax</th>\n",
       "    </tr>\n",
       "  </thead>\n",
       "  <tbody>\n",
       "    <tr>\n",
       "      <th>1</th>\n",
       "      <td>Bob</td>\n",
       "      <td>53</td>\n",
       "      <td>85398</td>\n",
       "      <td>8539.8</td>\n",
       "    </tr>\n",
       "    <tr>\n",
       "      <th>5</th>\n",
       "      <td>Frank</td>\n",
       "      <td>58</td>\n",
       "      <td>69657</td>\n",
       "      <td>6965.7</td>\n",
       "    </tr>\n",
       "    <tr>\n",
       "      <th>6</th>\n",
       "      <td>Grace</td>\n",
       "      <td>41</td>\n",
       "      <td>85202</td>\n",
       "      <td>8520.2</td>\n",
       "    </tr>\n",
       "    <tr>\n",
       "      <th>7</th>\n",
       "      <td>Hannah</td>\n",
       "      <td>38</td>\n",
       "      <td>62421</td>\n",
       "      <td>6242.1</td>\n",
       "    </tr>\n",
       "    <tr>\n",
       "      <th>8</th>\n",
       "      <td>Isaac</td>\n",
       "      <td>50</td>\n",
       "      <td>74641</td>\n",
       "      <td>7464.1</td>\n",
       "    </tr>\n",
       "    <tr>\n",
       "      <th>9</th>\n",
       "      <td>Jack</td>\n",
       "      <td>47</td>\n",
       "      <td>38963</td>\n",
       "      <td>3896.3</td>\n",
       "    </tr>\n",
       "    <tr>\n",
       "      <th>11</th>\n",
       "      <td>Leo</td>\n",
       "      <td>49</td>\n",
       "      <td>41874</td>\n",
       "      <td>4187.4</td>\n",
       "    </tr>\n",
       "    <tr>\n",
       "      <th>12</th>\n",
       "      <td>Mona</td>\n",
       "      <td>56</td>\n",
       "      <td>34070</td>\n",
       "      <td>3407.0</td>\n",
       "    </tr>\n",
       "    <tr>\n",
       "      <th>13</th>\n",
       "      <td>Nina</td>\n",
       "      <td>49</td>\n",
       "      <td>91734</td>\n",
       "      <td>9173.4</td>\n",
       "    </tr>\n",
       "    <tr>\n",
       "      <th>17</th>\n",
       "      <td>Rachel</td>\n",
       "      <td>54</td>\n",
       "      <td>59900</td>\n",
       "      <td>5990.0</td>\n",
       "    </tr>\n",
       "    <tr>\n",
       "      <th>19</th>\n",
       "      <td>Tina</td>\n",
       "      <td>56</td>\n",
       "      <td>52054</td>\n",
       "      <td>5205.4</td>\n",
       "    </tr>\n",
       "  </tbody>\n",
       "</table>\n",
       "</div>"
      ],
      "text/plain": [
       "      Name  Age  Salary     Tax\n",
       "1      Bob   53   85398  8539.8\n",
       "5    Frank   58   69657  6965.7\n",
       "6    Grace   41   85202  8520.2\n",
       "7   Hannah   38   62421  6242.1\n",
       "8    Isaac   50   74641  7464.1\n",
       "9     Jack   47   38963  3896.3\n",
       "11     Leo   49   41874  4187.4\n",
       "12    Mona   56   34070  3407.0\n",
       "13    Nina   49   91734  9173.4\n",
       "17  Rachel   54   59900  5990.0\n",
       "19    Tina   56   52054  5205.4"
      ]
     },
     "execution_count": 84,
     "metadata": {},
     "output_type": "execute_result"
    }
   ],
   "source": [
    "# solution\n",
    "df = df[df[\"Age\"]>36]\n",
    "df"
   ]
  },
  {
   "cell_type": "markdown",
   "metadata": {
    "id": "N93ktZ39PUQA"
   },
   "source": [
    "# Task 3: Data Analysis with Pandas"
   ]
  },
  {
   "cell_type": "markdown",
   "metadata": {
    "id": "AjtmFP3GPUQB",
    "outputId": "0980655e-35c5-4ae0-a640-3acab029e694"
   },
   "source": [
    "### Aggregation - Compute Total and Mean Sales\n",
    "#### 1. Given a dataset of sales transactions, compute the total and mean sales per region."
   ]
  },
  {
   "cell_type": "code",
   "execution_count": 120,
   "metadata": {
    "id": "qT-ldaKpPUQB",
    "outputId": "918cf5fc-705d-464b-b53f-004f52f20dbc"
   },
   "outputs": [
    {
     "data": {
      "text/html": [
       "<div>\n",
       "<style scoped>\n",
       "    .dataframe tbody tr th:only-of-type {\n",
       "        vertical-align: middle;\n",
       "    }\n",
       "\n",
       "    .dataframe tbody tr th {\n",
       "        vertical-align: top;\n",
       "    }\n",
       "\n",
       "    .dataframe thead th {\n",
       "        text-align: right;\n",
       "    }\n",
       "</style>\n",
       "<table border=\"1\" class=\"dataframe\">\n",
       "  <thead>\n",
       "    <tr style=\"text-align: right;\">\n",
       "      <th></th>\n",
       "      <th>Region</th>\n",
       "      <th>Sales</th>\n",
       "    </tr>\n",
       "  </thead>\n",
       "  <tbody>\n",
       "    <tr>\n",
       "      <th>0</th>\n",
       "      <td>North</td>\n",
       "      <td>1000</td>\n",
       "    </tr>\n",
       "    <tr>\n",
       "      <th>1</th>\n",
       "      <td>South</td>\n",
       "      <td>1500</td>\n",
       "    </tr>\n",
       "    <tr>\n",
       "      <th>2</th>\n",
       "      <td>North</td>\n",
       "      <td>1200</td>\n",
       "    </tr>\n",
       "    <tr>\n",
       "      <th>3</th>\n",
       "      <td>West</td>\n",
       "      <td>1800</td>\n",
       "    </tr>\n",
       "    <tr>\n",
       "      <th>4</th>\n",
       "      <td>South</td>\n",
       "      <td>1300</td>\n",
       "    </tr>\n",
       "  </tbody>\n",
       "</table>\n",
       "</div>"
      ],
      "text/plain": [
       "  Region  Sales\n",
       "0  North   1000\n",
       "1  South   1500\n",
       "2  North   1200\n",
       "3   West   1800\n",
       "4  South   1300"
      ]
     },
     "execution_count": 120,
     "metadata": {},
     "output_type": "execute_result"
    }
   ],
   "source": [
    "# Sample Data\n",
    "sales_data = pd.DataFrame({\n",
    "    \"Region\": [\"North\", \"South\", \"North\", \"West\", \"South\", \"West\"],\n",
    "    \"Sales\": [1000, 1500, 1200, 1800, 1300, 1700]\n",
    "})\n",
    "\n",
    "sales_data.head()"
   ]
  },
  {
   "cell_type": "code",
   "execution_count": 122,
   "metadata": {},
   "outputs": [
    {
     "data": {
      "text/html": [
       "<div>\n",
       "<style scoped>\n",
       "    .dataframe tbody tr th:only-of-type {\n",
       "        vertical-align: middle;\n",
       "    }\n",
       "\n",
       "    .dataframe tbody tr th {\n",
       "        vertical-align: top;\n",
       "    }\n",
       "\n",
       "    .dataframe thead th {\n",
       "        text-align: right;\n",
       "    }\n",
       "</style>\n",
       "<table border=\"1\" class=\"dataframe\">\n",
       "  <thead>\n",
       "    <tr style=\"text-align: right;\">\n",
       "      <th></th>\n",
       "      <th>Sales</th>\n",
       "    </tr>\n",
       "    <tr>\n",
       "      <th>Region</th>\n",
       "      <th></th>\n",
       "    </tr>\n",
       "  </thead>\n",
       "  <tbody>\n",
       "    <tr>\n",
       "      <th>North</th>\n",
       "      <td>1100.0</td>\n",
       "    </tr>\n",
       "    <tr>\n",
       "      <th>South</th>\n",
       "      <td>1400.0</td>\n",
       "    </tr>\n",
       "    <tr>\n",
       "      <th>West</th>\n",
       "      <td>1750.0</td>\n",
       "    </tr>\n",
       "  </tbody>\n",
       "</table>\n",
       "</div>"
      ],
      "text/plain": [
       "         Sales\n",
       "Region        \n",
       "North   1100.0\n",
       "South   1400.0\n",
       "West    1750.0"
      ]
     },
     "execution_count": 122,
     "metadata": {},
     "output_type": "execute_result"
    }
   ],
   "source": [
    "# solution\n",
    "df_sum = sales_data.groupby(\"Region\").sum()\n",
    "df_mean=sales_data.groupby(\"Region\").mean()\n",
    "df_sum\n",
    "df_mean\n"
   ]
  },
  {
   "cell_type": "markdown",
   "metadata": {
    "id": "ynk6eTfoPUQB",
    "outputId": "f5d51302-fb1e-4524-88c6-1089a1aa1dc5"
   },
   "source": [
    "### Merging - Combine Customer and Order Data\n",
    "#### 2. Merge customers and orders data based on CustomerID."
   ]
  },
  {
   "cell_type": "code",
   "execution_count": 128,
   "metadata": {
    "id": "RcbdmPYdPUQB",
    "outputId": "eb10b536-d73a-406e-af20-966cba72ce4d"
   },
   "outputs": [
    {
     "name": "stdout",
     "output_type": "stream",
     "text": [
      "   CustomerID CustomerName\n",
      "0           1        Alice\n",
      "1           2          Bob    OrderID  CustomerID  Amount\n",
      "0      101           1     250\n",
      "1      102           2     400\n"
     ]
    }
   ],
   "source": [
    "customers = pd.DataFrame({\n",
    "    \"CustomerID\": [1, 2, 3, 4],\n",
    "    \"CustomerName\": [\"Alice\", \"Bob\", \"Charlie\", \"David\"]\n",
    "})\n",
    "\n",
    "orders = pd.DataFrame({\n",
    "    \"OrderID\": [101, 102, 103, 104],\n",
    "    \"CustomerID\": [1, 2, 2, 4],\n",
    "    \"Amount\": [250, 400, 600, 150]\n",
    "})\n",
    "\n",
    "print(customers.head(2), orders.head(2))"
   ]
  },
  {
   "cell_type": "code",
   "execution_count": 134,
   "metadata": {
    "id": "S8Pd45ksPUQB"
   },
   "outputs": [
    {
     "data": {
      "text/html": [
       "<div>\n",
       "<style scoped>\n",
       "    .dataframe tbody tr th:only-of-type {\n",
       "        vertical-align: middle;\n",
       "    }\n",
       "\n",
       "    .dataframe tbody tr th {\n",
       "        vertical-align: top;\n",
       "    }\n",
       "\n",
       "    .dataframe thead th {\n",
       "        text-align: right;\n",
       "    }\n",
       "</style>\n",
       "<table border=\"1\" class=\"dataframe\">\n",
       "  <thead>\n",
       "    <tr style=\"text-align: right;\">\n",
       "      <th></th>\n",
       "      <th>CustomerID</th>\n",
       "      <th>CustomerName</th>\n",
       "      <th>OrderID</th>\n",
       "      <th>Amount</th>\n",
       "    </tr>\n",
       "  </thead>\n",
       "  <tbody>\n",
       "    <tr>\n",
       "      <th>0</th>\n",
       "      <td>1</td>\n",
       "      <td>Alice</td>\n",
       "      <td>101</td>\n",
       "      <td>250</td>\n",
       "    </tr>\n",
       "    <tr>\n",
       "      <th>1</th>\n",
       "      <td>2</td>\n",
       "      <td>Bob</td>\n",
       "      <td>102</td>\n",
       "      <td>400</td>\n",
       "    </tr>\n",
       "    <tr>\n",
       "      <th>2</th>\n",
       "      <td>2</td>\n",
       "      <td>Bob</td>\n",
       "      <td>103</td>\n",
       "      <td>600</td>\n",
       "    </tr>\n",
       "    <tr>\n",
       "      <th>3</th>\n",
       "      <td>4</td>\n",
       "      <td>David</td>\n",
       "      <td>104</td>\n",
       "      <td>150</td>\n",
       "    </tr>\n",
       "  </tbody>\n",
       "</table>\n",
       "</div>"
      ],
      "text/plain": [
       "   CustomerID CustomerName  OrderID  Amount\n",
       "0           1        Alice      101     250\n",
       "1           2          Bob      102     400\n",
       "2           2          Bob      103     600\n",
       "3           4        David      104     150"
      ]
     },
     "execution_count": 134,
     "metadata": {},
     "output_type": "execute_result"
    }
   ],
   "source": [
    "# solution\n",
    "df_merge = pd.merge(customers, orders, on=\"CustomerID\")\n",
    "df_merge"
   ]
  },
  {
   "cell_type": "markdown",
   "metadata": {},
   "source": [
    "### Joining - Left Join Employee Data\n",
    "#### 4. Perform a left join between employees and departments on DeptID."
   ]
  },
  {
   "cell_type": "code",
   "execution_count": 138,
   "metadata": {},
   "outputs": [
    {
     "name": "stdout",
     "output_type": "stream",
     "text": [
      "   EmpID EmpName  DeptID\n",
      "0    101    John       1\n",
      "1    102    Jane       2    DeptID DeptName\n",
      "0       1       HR\n",
      "1       2  Finance\n"
     ]
    }
   ],
   "source": [
    "# NB: No test for this. Just an exercise for you to play around with\n",
    "employees = pd.DataFrame({\n",
    "    \"EmpID\": [101, 102, 103, 104],\n",
    "    \"EmpName\": [\"John\", \"Jane\", \"Alice\", \"Bob\"],\n",
    "    \"DeptID\": [1, 2, 2, 3]\n",
    "})\n",
    "\n",
    "departments = pd.DataFrame({\n",
    "    \"DeptID\": [1, 2],\n",
    "    \"DeptName\": [\"HR\", \"Finance\"]\n",
    "})\n",
    "\n",
    "print(employees.head(2), departments.head(2))"
   ]
  },
  {
   "cell_type": "code",
   "execution_count": 140,
   "metadata": {},
   "outputs": [
    {
     "data": {
      "text/html": [
       "<div>\n",
       "<style scoped>\n",
       "    .dataframe tbody tr th:only-of-type {\n",
       "        vertical-align: middle;\n",
       "    }\n",
       "\n",
       "    .dataframe tbody tr th {\n",
       "        vertical-align: top;\n",
       "    }\n",
       "\n",
       "    .dataframe thead th {\n",
       "        text-align: right;\n",
       "    }\n",
       "</style>\n",
       "<table border=\"1\" class=\"dataframe\">\n",
       "  <thead>\n",
       "    <tr style=\"text-align: right;\">\n",
       "      <th></th>\n",
       "      <th>EmpID</th>\n",
       "      <th>EmpName</th>\n",
       "      <th>DeptID</th>\n",
       "      <th>DeptName</th>\n",
       "    </tr>\n",
       "  </thead>\n",
       "  <tbody>\n",
       "    <tr>\n",
       "      <th>0</th>\n",
       "      <td>101</td>\n",
       "      <td>John</td>\n",
       "      <td>1</td>\n",
       "      <td>HR</td>\n",
       "    </tr>\n",
       "    <tr>\n",
       "      <th>1</th>\n",
       "      <td>102</td>\n",
       "      <td>Jane</td>\n",
       "      <td>2</td>\n",
       "      <td>Finance</td>\n",
       "    </tr>\n",
       "    <tr>\n",
       "      <th>2</th>\n",
       "      <td>103</td>\n",
       "      <td>Alice</td>\n",
       "      <td>2</td>\n",
       "      <td>Finance</td>\n",
       "    </tr>\n",
       "    <tr>\n",
       "      <th>3</th>\n",
       "      <td>104</td>\n",
       "      <td>Bob</td>\n",
       "      <td>3</td>\n",
       "      <td>NaN</td>\n",
       "    </tr>\n",
       "  </tbody>\n",
       "</table>\n",
       "</div>"
      ],
      "text/plain": [
       "   EmpID EmpName  DeptID DeptName\n",
       "0    101    John       1       HR\n",
       "1    102    Jane       2  Finance\n",
       "2    103   Alice       2  Finance\n",
       "3    104     Bob       3      NaN"
      ]
     },
     "execution_count": 140,
     "metadata": {},
     "output_type": "execute_result"
    }
   ],
   "source": [
    "# solution\n",
    "df_left_merge=pd.merge(employees, departments, on=\"DeptID\", how=\"left\")\n",
    "df_left_merge"
   ]
  },
  {
   "cell_type": "markdown",
   "metadata": {},
   "source": [
    "### Pivot Table - Summarize Sales Data\n",
    "#### 4. Create a pivot table showing total sales for each Region and Product."
   ]
  },
  {
   "cell_type": "code",
   "execution_count": 142,
   "metadata": {},
   "outputs": [
    {
     "data": {
      "text/html": [
       "<div>\n",
       "<style scoped>\n",
       "    .dataframe tbody tr th:only-of-type {\n",
       "        vertical-align: middle;\n",
       "    }\n",
       "\n",
       "    .dataframe tbody tr th {\n",
       "        vertical-align: top;\n",
       "    }\n",
       "\n",
       "    .dataframe thead th {\n",
       "        text-align: right;\n",
       "    }\n",
       "</style>\n",
       "<table border=\"1\" class=\"dataframe\">\n",
       "  <thead>\n",
       "    <tr style=\"text-align: right;\">\n",
       "      <th></th>\n",
       "      <th>Region</th>\n",
       "      <th>Product</th>\n",
       "      <th>Sales</th>\n",
       "    </tr>\n",
       "  </thead>\n",
       "  <tbody>\n",
       "    <tr>\n",
       "      <th>0</th>\n",
       "      <td>North</td>\n",
       "      <td>A</td>\n",
       "      <td>200</td>\n",
       "    </tr>\n",
       "    <tr>\n",
       "      <th>1</th>\n",
       "      <td>North</td>\n",
       "      <td>B</td>\n",
       "      <td>300</td>\n",
       "    </tr>\n",
       "  </tbody>\n",
       "</table>\n",
       "</div>"
      ],
      "text/plain": [
       "  Region Product  Sales\n",
       "0  North       A    200\n",
       "1  North       B    300"
      ]
     },
     "execution_count": 142,
     "metadata": {},
     "output_type": "execute_result"
    }
   ],
   "source": [
    "sales_pivot_data = pd.DataFrame({\n",
    "    \"Region\": [\"North\", \"North\", \"South\", \"South\", \"West\", \"West\"],\n",
    "    \"Product\": [\"A\", \"B\", \"A\", \"B\", \"A\", \"B\"],\n",
    "    \"Sales\": [200, 300, 150, 400, 250, 500]\n",
    "})\n",
    "\n",
    "sales_pivot_data.head(2)"
   ]
  },
  {
   "cell_type": "code",
   "execution_count": 148,
   "metadata": {},
   "outputs": [
    {
     "data": {
      "text/html": [
       "<div>\n",
       "<style scoped>\n",
       "    .dataframe tbody tr th:only-of-type {\n",
       "        vertical-align: middle;\n",
       "    }\n",
       "\n",
       "    .dataframe tbody tr th {\n",
       "        vertical-align: top;\n",
       "    }\n",
       "\n",
       "    .dataframe thead th {\n",
       "        text-align: right;\n",
       "    }\n",
       "</style>\n",
       "<table border=\"1\" class=\"dataframe\">\n",
       "  <thead>\n",
       "    <tr style=\"text-align: right;\">\n",
       "      <th>Product</th>\n",
       "      <th>A</th>\n",
       "      <th>B</th>\n",
       "    </tr>\n",
       "    <tr>\n",
       "      <th>Region</th>\n",
       "      <th></th>\n",
       "      <th></th>\n",
       "    </tr>\n",
       "  </thead>\n",
       "  <tbody>\n",
       "    <tr>\n",
       "      <th>North</th>\n",
       "      <td>200</td>\n",
       "      <td>300</td>\n",
       "    </tr>\n",
       "    <tr>\n",
       "      <th>South</th>\n",
       "      <td>150</td>\n",
       "      <td>400</td>\n",
       "    </tr>\n",
       "    <tr>\n",
       "      <th>West</th>\n",
       "      <td>250</td>\n",
       "      <td>500</td>\n",
       "    </tr>\n",
       "  </tbody>\n",
       "</table>\n",
       "</div>"
      ],
      "text/plain": [
       "Product    A    B\n",
       "Region           \n",
       "North    200  300\n",
       "South    150  400\n",
       "West     250  500"
      ]
     },
     "execution_count": 148,
     "metadata": {},
     "output_type": "execute_result"
    }
   ],
   "source": [
    "# solution\n",
    "sales_pivot = sales_pivot_data.pivot_table(values=\"Sales\", index=\"Region\", columns=\"Product\", aggfunc=\"sum\")\n",
    "sales_pivot"
   ]
  }
 ],
 "metadata": {
  "colab": {
   "provenance": []
  },
  "kernelspec": {
   "display_name": "Python [conda env:base] *",
   "language": "python",
   "name": "conda-base-py"
  },
  "language_info": {
   "codemirror_mode": {
    "name": "ipython",
    "version": 3
   },
   "file_extension": ".py",
   "mimetype": "text/x-python",
   "name": "python",
   "nbconvert_exporter": "python",
   "pygments_lexer": "ipython3",
   "version": "3.12.7"
  }
 },
 "nbformat": 4,
 "nbformat_minor": 4
}
